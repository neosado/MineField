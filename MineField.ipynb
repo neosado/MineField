{
 "cells": [
  {
   "cell_type": "code",
   "execution_count": 2,
   "metadata": {
    "collapsed": false,
    "scrolled": true
   },
   "outputs": [
    {
     "name": "stdout",
     "output_type": "stream",
     "text": [
      "9.0\n",
      "[1,3,2,4]\n"
     ]
    }
   ],
   "source": [
    "using Graphs\n",
    "\n",
    "g = simple_graph(5)\n",
    "\n",
    "inputs = [       # each element is (u, v, dist)\n",
    "    (1, 2, 10.),\n",
    "    (1, 3, 5.),\n",
    "    (2, 3, 2.),\n",
    "    (3, 2, 3.),\n",
    "    (2, 4, 1.),\n",
    "    (3, 5, 2.),\n",
    "    (4, 5, 4.),\n",
    "    (5, 4, 6.),\n",
    "    (5, 1, 7.),\n",
    "    (3, 4, 9.) ]\n",
    "\n",
    "ne = length(inputs)\n",
    "dists = zeros(ne)\n",
    "\n",
    "for i = 1 : ne\n",
    "    a = inputs[i]\n",
    "    add_edge!(g, a[1], a[2])   # add edge\n",
    "    dists[i] = a[3]             # set distance\n",
    "end\n",
    "\n",
    "r = dijkstra_shortest_paths(g, dists, 1)\n",
    "\n",
    "d = 4\n",
    "println(r.dists[d])\n",
    "println(enumerate_paths(vertices(g), r.parent_indices, d))\n",
    "\n",
    ";"
   ]
  },
  {
   "cell_type": "code",
   "execution_count": 41,
   "metadata": {
    "collapsed": false
   },
   "outputs": [
    {
     "name": "stdout",
     "output_type": "stream",
     "text": [
      "tree policy: Dict{ASCIIString,Any}(\"c\"=>300,\"type\"=>:UCB1)\n",
      "optimum: -754.6, N: 100, mean: -810.8, std: 85.91\n",
      "\n",
      "tree policy: Dict{ASCIIString,Any}(\"c\"=>1,\"type\"=>:UCB1)\n",
      "optimum: -754.6, N: 100, mean: -999.5, std: 218.0\n",
      "\n"
     ]
    }
   ],
   "source": [
    "push!(LOAD_PATH, \".\")\n",
    "\n",
    "using JSON\n",
    "using Util\n",
    "\n",
    "\n",
    "D = JSON.parsefile(\"exp01.json\");\n",
    "\n",
    "for (tree_policy, experiment) in D\n",
    "    println(\"tree policy: \", tree_policy)\n",
    "    expected_returns = Array{Float64}(experiment[\"expected_returns\"])\n",
    "    println(\"optimum: \", neat(experiment[\"opt_dist\"]), \", N: \", experiment[\"N\"], \", mean: \", neat(mean(expected_returns)), \", std: \", neat(std(expected_returns)))\n",
    "    println()\n",
    "end\n",
    "\n",
    ";"
   ]
  }
 ],
 "metadata": {
  "kernelspec": {
   "display_name": "Julia 0.4",
   "language": "julia",
   "name": "julia-0.4"
  },
  "language_info": {
   "file_extension": ".jl",
   "mimetype": "application/julia",
   "name": "julia",
   "version": "0.4.2"
  }
 },
 "nbformat": 4,
 "nbformat_minor": 0
}

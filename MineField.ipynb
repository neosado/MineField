{
 "cells": [
  {
   "cell_type": "code",
   "execution_count": 18,
   "metadata": {
    "collapsed": false
   },
   "outputs": [
    {
     "name": "stdout",
     "output_type": "stream",
     "text": [
      "9.0\n",
      "[1,3,2,4]\n"
     ]
    }
   ],
   "source": [
    "using Graphs\n",
    "\n",
    "g = simple_graph(5)\n",
    "\n",
    "inputs = [       # each element is (u, v, dist)\n",
    "    (1, 2, 10.),\n",
    "    (1, 3, 5.),\n",
    "    (2, 3, 2.),\n",
    "    (3, 2, 3.),\n",
    "    (2, 4, 1.),\n",
    "    (3, 5, 2.),\n",
    "    (4, 5, 4.),\n",
    "    (5, 4, 6.),\n",
    "    (5, 1, 7.),\n",
    "    (3, 4, 9.) ]\n",
    "\n",
    "ne = length(inputs)\n",
    "dists = zeros(ne)\n",
    "\n",
    "for i = 1 : ne\n",
    "    a = inputs[i]\n",
    "    add_edge!(g, a[1], a[2])   # add edge\n",
    "    dists[i] = a[3]             # set distance\n",
    "end\n",
    "\n",
    "r = dijkstra_shortest_paths(g, dists, 1)\n",
    "\n",
    "d = 4\n",
    "println(r.dists[d])\n",
    "println(enumerate_paths(vertices(g), r.parent_indices, d))\n",
    "\n",
    ";"
   ]
  }
 ],
 "metadata": {
  "kernelspec": {
   "display_name": "Julia 0.4.0",
   "language": "julia",
   "name": "julia-0.4"
  },
  "language_info": {
   "file_extension": ".jl",
   "mimetype": "application/julia",
   "name": "julia",
   "version": "0.4.0"
  }
 },
 "nbformat": 4,
 "nbformat_minor": 0
}
